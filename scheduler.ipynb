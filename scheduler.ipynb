{
 "cells": [
  {
   "cell_type": "markdown",
   "metadata": {},
   "source": [
    "## Timetable Scheduler\n",
    "Objective: To maximize productivity in a day. <br><br>Given a schedule and a list of tasks, the Pulp module calculates and assign tasks such that it factors in the priority score of each tasks. Each time block is 30 minutes. \n"
   ]
  },
  {
   "cell_type": "code",
   "execution_count": 40,
   "metadata": {
    "ExecuteTime": {
     "end_time": "2020-07-01T00:51:34.821920Z",
     "start_time": "2020-07-01T00:51:34.589244Z"
    }
   },
   "outputs": [],
   "source": [
    "import pandas as pd\n",
    "from pulp import *\n",
    "import numpy as np\n",
    "import matplotlib.pyplot as plt\n",
    "\n",
    "\n",
    "tasks = pd.read_csv('tasks.csv')\n",
    "schedule = pd.read_csv('schedule.csv')['Availability']\n"
   ]
  },
  {
   "cell_type": "markdown",
   "metadata": {},
   "source": [
    "# Input parameters:\n",
    "\n",
    "$s_i$: important score of task $i$\n",
    "\n",
    "$d_i$: number of time blocks needed to finish task $i$\n",
    "\n",
    "$b_t$: availability of time block \\; $b \\in \\{0,1\\}  $\n",
    "\n",
    "$B$: total number of time blocks \n",
    "\n",
    "$n$: total number of tasks"
   ]
  },
  {
   "cell_type": "code",
   "execution_count": 32,
   "metadata": {
    "ExecuteTime": {
     "end_time": "2020-07-01T00:51:37.316505Z",
     "start_time": "2020-07-01T00:51:37.313855Z"
    }
   },
   "outputs": [],
   "source": [
    "s = list(tasks['Priority (1-5)'])\n",
    "d = list(tasks['Num of blocks'])\n",
    "b = list(schedule)\n",
    "\n",
    "B = len(b)\n",
    "n = len(s)"
   ]
  },
  {
   "cell_type": "code",
   "execution_count": 33,
   "metadata": {
    "ExecuteTime": {
     "end_time": "2020-07-01T00:51:38.165213Z",
     "start_time": "2020-07-01T00:51:38.163287Z"
    }
   },
   "outputs": [],
   "source": [
    "# Available time blocks\n",
    "A = sum(b)"
   ]
  },
  {
   "cell_type": "code",
   "execution_count": 34,
   "metadata": {
    "ExecuteTime": {
     "end_time": "2020-07-01T00:51:39.305631Z",
     "start_time": "2020-07-01T00:51:39.301641Z"
    }
   },
   "outputs": [],
   "source": [
    "prob = LpProblem(\"Schedule_Tasks\",LpMaximize)\n",
    "\n",
    "#Define variable\n",
    "y = LpVariable.dicts('Block', [(i,t) for i in range(n) for t in range(B)],\n",
    "                    cat='Binary')"
   ]
  },
  {
   "cell_type": "markdown",
   "metadata": {},
   "source": [
    "## Objective function\n",
    "$\\text{Maximize} \\;\\; \\sum_{i=1}^{n}\\sum_{t=1}^{B} s_{i}y_{it}$\n",
    "\n",
    "$y_{it}$ = 1 if task $i$ is assigned to time $t$, 0 otherwise"
   ]
  },
  {
   "cell_type": "code",
   "execution_count": 35,
   "metadata": {
    "ExecuteTime": {
     "end_time": "2020-07-01T00:51:40.088414Z",
     "start_time": "2020-07-01T00:51:40.075335Z"
    }
   },
   "outputs": [],
   "source": [
    "#Define objective\n",
    "prob += lpSum(s[i]*b[t]*y[(i,t)] for i in range(n) for t in range(B))"
   ]
  },
  {
   "cell_type": "markdown",
   "metadata": {},
   "source": [
    "# Constraints:\n",
    "\n",
    "Sum of the time blocks of the assigned tasks should be not greater than the number of available time blocks\n",
    "\n",
    "$\\sum_{i=1}^{n}\\sum_{t=1}^{B} y_{it} \\leq A$ (1) \n",
    "\n",
    "Total number of time blocks assigned for each task should not be greater than the time needed to finish the task\n",
    "\n",
    "$\\sum_{t=1}^{B} y_{it} \\leq d_i \\;; \\forall i = 1, 2, ..., n$ (2)\n",
    "\n",
    "No more than one task each block\n",
    "\n",
    "$\\sum_{i=1}^{n} y_{it} \\leq 1 \\;; \\forall t = 1, 2, ..., B$ (3)"
   ]
  },
  {
   "cell_type": "code",
   "execution_count": 36,
   "metadata": {
    "ExecuteTime": {
     "end_time": "2020-07-01T00:51:41.204940Z",
     "start_time": "2020-07-01T00:51:41.198105Z"
    }
   },
   "outputs": [],
   "source": [
    "prob += lpSum(y[(i,t)] for i in range(n) for t in range(B)) <= A #1\n",
    "\n",
    "for i in range(n):\n",
    "    prob += lpSum(y[(i,t)] for t in range(B)) <= d[i] #2\n",
    "\n",
    "for t in range(B):\n",
    "    prob += lpSum(y[(i,t)] for i in range(n)) <= 1 #3\n",
    "\n"
   ]
  },
  {
   "cell_type": "code",
   "execution_count": 37,
   "metadata": {
    "ExecuteTime": {
     "end_time": "2020-07-01T00:51:41.554132Z",
     "start_time": "2020-07-01T00:51:41.530288Z"
    }
   },
   "outputs": [
    {
     "name": "stdout",
     "output_type": "stream",
     "text": [
      "Welcome to the CBC MILP Solver \n",
      "Version: 2.10.3 \n",
      "Build Date: Dec 15 2019 \n",
      "\n",
      "command line - /Users/huijee/Python/chatbot1/env/lib/python3.7/site-packages/pulp/apis/../solverdir/cbc/osx/64/cbc /var/folders/d1/dvr261d924ldmypwmkhsl2_80000gn/T/c3b54e7ea2ba4e0cacf5b4b49c705c0e-pulp.mps max timeMode elapsed branch printingOptions all solution /var/folders/d1/dvr261d924ldmypwmkhsl2_80000gn/T/c3b54e7ea2ba4e0cacf5b4b49c705c0e-pulp.sol (default strategy 1)\n",
      "At line 2 NAME          MODEL\n",
      "At line 3 ROWS\n",
      "At line 63 COLUMNS\n",
      "At line 2386 RHS\n",
      "At line 2445 BOUNDS\n",
      "At line 2878 ENDATA\n",
      "Problem MODEL has 58 rows, 432 columns and 1296 elements\n",
      "Coin0008I MODEL read with 0 errors\n",
      "Option for timeMode changed from cpu to elapsed\n",
      "Continuous objective value is 52 - 0.00 seconds\n",
      "Cgl0004I processed model has 28 rows, 162 columns (162 integer (162 of which binary)) and 486 elements\n",
      "Cutoff increment increased from 1e-05 to 0.9999\n",
      "Cbc0038I Initial state - 0 integers unsatisfied sum - 0\n",
      "Cbc0038I Solution found of -52\n",
      "Cbc0038I Before mini branch and bound, 162 integers at bound fixed and 0 continuous\n",
      "Cbc0038I Mini branch and bound did not improve solution (0.01 seconds)\n",
      "Cbc0038I After 0.01 seconds - Feasibility pump exiting with objective of -52 - took 0.00 seconds\n",
      "Cbc0012I Integer solution of -52 found by feasibility pump after 0 iterations and 0 nodes (0.01 seconds)\n",
      "Cbc0001I Search completed - best objective -52, took 0 iterations and 0 nodes (0.01 seconds)\n",
      "Cbc0035I Maximum depth 0, 0 variables fixed on reduced cost\n",
      "Cuts at root node changed objective from -52 to -52\n",
      "Probing was tried 0 times and created 0 cuts of which 0 were active after adding rounds of cuts (0.000 seconds)\n",
      "Gomory was tried 0 times and created 0 cuts of which 0 were active after adding rounds of cuts (0.000 seconds)\n",
      "Knapsack was tried 0 times and created 0 cuts of which 0 were active after adding rounds of cuts (0.000 seconds)\n",
      "Clique was tried 0 times and created 0 cuts of which 0 were active after adding rounds of cuts (0.000 seconds)\n",
      "MixedIntegerRounding2 was tried 0 times and created 0 cuts of which 0 were active after adding rounds of cuts (0.000 seconds)\n",
      "FlowCover was tried 0 times and created 0 cuts of which 0 were active after adding rounds of cuts (0.000 seconds)\n",
      "TwoMirCuts was tried 0 times and created 0 cuts of which 0 were active after adding rounds of cuts (0.000 seconds)\n",
      "ZeroHalf was tried 0 times and created 0 cuts of which 0 were active after adding rounds of cuts (0.000 seconds)\n",
      "\n",
      "Result - Optimal solution found\n",
      "\n",
      "Objective value:                52.00000000\n",
      "Enumerated nodes:               0\n",
      "Total iterations:               0\n",
      "Time (CPU seconds):             0.01\n",
      "Time (Wallclock seconds):       0.01\n",
      "\n",
      "Option for printingOptions changed from normal to all\n",
      "Total time (CPU seconds):       0.01   (Wallclock seconds):       0.01\n",
      "\n"
     ]
    },
    {
     "data": {
      "text/plain": [
       "1"
      ]
     },
     "execution_count": 37,
     "metadata": {},
     "output_type": "execute_result"
    }
   ],
   "source": [
    "prob.solve()"
   ]
  },
  {
   "cell_type": "code",
   "execution_count": 41,
   "metadata": {
    "ExecuteTime": {
     "end_time": "2020-07-01T00:51:41.881693Z",
     "start_time": "2020-07-01T00:51:41.877151Z"
    }
   },
   "outputs": [
    {
     "name": "stdout",
     "output_type": "stream",
     "text": [
      "Assignment accomplished!\n",
      "Chosen tasks are: [2, 3, 4, 5, 6, 7, 9]\n"
     ]
    }
   ],
   "source": [
    "tasks = np.zeros((n,B))\n",
    "chosen_tasks = []\n",
    "\n",
    "for i in range(n):\n",
    "    for t in range(B):\n",
    "        tasks[i][t]= y[(i,t)].varValue*(i+1)\n",
    "        if y[(i,t)].varValue == 1:\n",
    "            if i+1 not in chosen_tasks:\n",
    "                chosen_tasks.append(i+1)\n",
    "        \n",
    "print('Chosen tasks are: {}'.format(chosen_tasks))\n",
    "\n"
   ]
  },
  {
   "cell_type": "code",
   "execution_count": 42,
   "metadata": {
    "ExecuteTime": {
     "end_time": "2020-07-01T00:51:42.883351Z",
     "start_time": "2020-07-01T00:51:42.626447Z"
    }
   },
   "outputs": [
    {
     "data": {
      "image/png": "[encoded data removed]",
      "text/plain": [
       "<Figure size 1440x1440 with 1 Axes>"
      ]
     },
     "metadata": {
      "needs_background": "light"
     },
     "output_type": "display_data"
    }
   ],
   "source": [
    "fig = plt.figure(figsize = (20,20))\n",
    "ax = fig.add_subplot(111)\n",
    "ax.axes.get_yaxis().set_visible(False)\n",
    "ax.set_aspect(1)\n",
    "\n",
    "def avg(a, b):\n",
    "    return (a + b) / 2.0\n",
    "    \n",
    "for y, row in enumerate(tasks):\n",
    "    for x, col in enumerate(row):\n",
    "        x1 = [x, x+1]\n",
    "        y1 = [0, 0]\n",
    "        y2 = [3, 3]\n",
    "            \n",
    "        if col == 1:\n",
    "            plt.fill_between(x1, y1, y2=y2, color='red')\n",
    "            plt.text(avg(x1[0], x1[1]), avg(y1[0],y2[0]), \"0\",\n",
    "                    horizontalalignment='center', verticalalignment='center')\n",
    "        \n",
    "        if col == 2 :\n",
    "            plt.fill_between(x1, y1, y2=y2, color='pink')\n",
    "            plt.text(avg(x1[0], x1[1]), avg(y1[0],y2[0]), \"1\",\n",
    "                    horizontalalignment='center', verticalalignment='center')\n",
    "\n",
    "        if col == 4:\n",
    "            plt.fill_between(x1, y1, y2=y2, color='green')\n",
    "            plt.text(avg(x1[0], x1[1]), avg(y1[0],y2[0]), \"3\",\n",
    "                    horizontalalignment='center', verticalalignment='center')\n",
    "\n",
    "        if col == 5:\n",
    "            plt.fill_between(x1, y1, y2=y2, color='purple')\n",
    "            plt.text(avg(x1[0], x1[1]), avg(y1[0],y2[0]), \"4\",\n",
    "                    horizontalalignment='center', verticalalignment='center')\n",
    "            \n",
    "        if col == 7:\n",
    "            plt.fill_between(x1, y1, y2=y2, color='blue')\n",
    "            plt.text(avg(x1[0], x1[1]), avg(y1[0],y2[0]), \"6\",\n",
    "                    horizontalalignment='center', verticalalignment='center')\n",
    "        \n",
    "            \n",
    "ax.set_xlabel('Time')\n",
    "plt.show()\n",
    "\n",
    "        \n",
    "        \n",
    "        "
   ]
  }
 ],
 "metadata": {
  "interpreter": {
   "hash": "bda7e87dedadee6eedd782adc4ed43aa6a079947b65ce755f8c4c86e2ec2eb6f"
  },
  "kernelspec": {
   "display_name": "Python 3.8.1 64-bit ('venv': venv)",
   "language": "python",
   "name": "python3"
  },
  "language_info": {
   "codemirror_mode": {
    "name": "ipython",
    "version": 3
   },
   "file_extension": ".py",
   "mimetype": "text/x-python",
   "name": "python",
   "nbconvert_exporter": "python",
   "pygments_lexer": "ipython3",
   "version": "3.7.10"
  },
  "latex_envs": {
   "LaTeX_envs_menu_present": true,
   "autoclose": false,
   "autocomplete": true,
   "bibliofile": "biblio.bib",
   "cite_by": "apalike",
   "current_citInitial": 1,
   "eqLabelWithNumbers": true,
   "eqNumInitial": 1,
   "hotkeys": {
    "equation": "Ctrl-E",
    "itemize": "Ctrl-I"
   },
   "labels_anchors": false,
   "latex_user_defs": false,
   "report_style_numbering": false,
   "user_envs_cfg": false
  },
  "toc": {
   "base_numbering": 1,
   "nav_menu": {},
   "number_sections": true,
   "sideBar": true,
   "skip_h1_title": false,
   "title_cell": "Table of Contents",
   "title_sidebar": "Contents",
   "toc_cell": false,
   "toc_position": {},
   "toc_section_display": true,
   "toc_window_display": false
  }
 },
 "nbformat": 4,
 "nbformat_minor": 2
}
